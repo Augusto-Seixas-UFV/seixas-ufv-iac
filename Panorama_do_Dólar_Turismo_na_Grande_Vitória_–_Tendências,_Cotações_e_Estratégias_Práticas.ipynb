{
  "nbformat": 4,
  "nbformat_minor": 0,
  "metadata": {
    "colab": {
      "provenance": [],
      "authorship_tag": "ABX9TyMXolZxMoHfq6p4wF/WhYUZ",
      "include_colab_link": true
    },
    "kernelspec": {
      "name": "python3",
      "display_name": "Python 3"
    },
    "language_info": {
      "name": "python"
    }
  },
  "cells": [
    {
      "cell_type": "markdown",
      "metadata": {
        "id": "view-in-github",
        "colab_type": "text"
      },
      "source": [
        "<a href=\"https://colab.research.google.com/github/Augusto-Seixas-UFV/seixas-ufv-iac/blob/main/Panorama_do_D%C3%B3lar_Turismo_na_Grande_Vit%C3%B3ria_%E2%80%93_Tend%C3%AAncias%2C_Cota%C3%A7%C3%B5es_e_Estrat%C3%A9gias_Pr%C3%A1ticas.ipynb\" target=\"_parent\"><img src=\"https://colab.research.google.com/assets/colab-badge.svg\" alt=\"Open In Colab\"/></a>"
      ]
    },
    {
      "cell_type": "code",
      "execution_count": null,
      "metadata": {
        "id": "TXQj0NHrS9vj"
      },
      "outputs": [],
      "source": [
        "# --- bibliotecas usadas -----------------------------------------------------\n",
        "import pandas as pd                  # manipulação tabular\n",
        "import matplotlib.pyplot as plt       # visualização\n",
        "from datetime import datetime         # datas seriadas\n",
        "from sklearn.linear_model import LinearRegression  # regressão OLS simples\n",
        "\n",
        "# --- 1. série histórica -----------------------------------------------------\n",
        "data = [\n",
        "    (\"2025-05-19\", 5.9771), (\"2025-05-20\", 5.9421), (\"2025-05-21\", 5.9451),\n",
        "    (\"2025-05-22\", 5.9400), (\"2025-05-23\", 5.9210), (\"2025-05-24\", 5.9779),\n",
        "    (\"2025-05-25\", 5.9779), (\"2025-05-26\", 5.9779), (\"2025-05-27\", 5.9450),\n",
        "    (\"2025-05-28\", 5.9366), (\"2025-05-29\", 5.9783), (\"2025-05-30\", 5.9387),\n",
        "    (\"2025-05-31\", 5.9941), (\"2025-06-01\", 5.9941), (\"2025-06-02\", 5.9941),\n",
        "    (\"2025-06-03\", 5.9784), (\"2025-06-04\", 5.9529), (\"2025-06-05\", 5.9149),\n",
        "    (\"2025-06-06\", 5.8767), (\"2025-06-07\", 5.8744), (\"2025-06-08\", 5.8744),\n",
        "    (\"2025-06-09\", 5.8744), (\"2025-06-10\", 5.8548), (\"2025-06-11\", 5.8335),\n",
        "    (\"2025-06-12\", 5.8160), (\"2025-06-13\", 5.8157), (\"2025-06-14\", 5.8435),\n",
        "    (\"2025-06-15\", 5.8435), (\"2025-06-16\", 5.8435), (\"2025-06-17\", 5.7879),\n",
        "    (\"2025-06-18\", 5.7512),\n",
        "]\n",
        "hist_df = pd.DataFrame(data, columns=[\"date\", \"rate\"])\n",
        "hist_df[\"date\"] = pd.to_datetime(hist_df[\"date\"])\n",
        "\n",
        "# --- 2. preparação para regressão ------------------------------------------\n",
        "# convertendo datas para valor numérico absoluto (ordinal)\n",
        "hist_df[\"ordinal\"] = hist_df[\"date\"].map(datetime.toordinal)\n",
        "\n",
        "# ajuste do modelo: taxa ~ dia\n",
        "model = LinearRegression().fit(\n",
        "    hist_df[[\"ordinal\"]],        # X\n",
        "    hist_df[\"rate\"]              # y\n",
        ")\n",
        "\n",
        "# --- 3. construindo janela futura de 30 dias --------------------------------\n",
        "future_dates = pd.date_range(\n",
        "    start=hist_df[\"date\"].max() + pd.Timedelta(days=1),\n",
        "    periods=30,\n",
        "    freq=\"D\"\n",
        ")\n",
        "future_df = pd.DataFrame({\"date\": future_dates})\n",
        "future_df[\"ordinal\"] = future_df[\"date\"].map(datetime.toordinal)\n",
        "\n",
        "# previsão usando o modelo treinado\n",
        "future_df[\"pred_rate\"] = model.predict(future_df[[\"ordinal\"]])\n",
        "\n",
        "# --- 4. plot final ----------------------------------------------------------\n",
        "plt.figure(figsize=(10, 5))\n",
        "plt.plot(hist_df[\"date\"], hist_df[\"rate\"],\n",
        "         label=\"Histórico (últimos 30 dias)\")\n",
        "plt.plot(future_df[\"date\"], future_df[\"pred_rate\"], linestyle=\"--\",\n",
        "         label=\"Previsão (próximos 30 dias)\")\n",
        "plt.title(\"Dólar Turismo – Histórico e Previsão (Mai-Jun 2025)\")\n",
        "plt.xlabel(\"Data\")\n",
        "plt.ylabel(\"Cotação (R$)\")\n",
        "plt.legend()\n",
        "plt.grid(True)\n",
        "plt.tight_layout()\n",
        "plt.show()\n"
      ]
    }
  ]
}