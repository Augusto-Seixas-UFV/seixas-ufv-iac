{
  "nbformat": 4,
  "nbformat_minor": 0,
  "metadata": {
    "colab": {
      "provenance": [],
      "authorship_tag": "ABX9TyP9Q0YfM/h7WeWB4djy+6Fr",
      "include_colab_link": true
    },
    "kernelspec": {
      "name": "python3",
      "display_name": "Python 3"
    },
    "language_info": {
      "name": "python"
    }
  },
  "cells": [
    {
      "cell_type": "markdown",
      "metadata": {
        "id": "view-in-github",
        "colab_type": "text"
      },
      "source": [
        "<a href=\"https://colab.research.google.com/github/Augusto-Seixas-UFV/seixas-ufv-iac/blob/main/C%C3%B3pia_de_ELT_574_Atividade_01_Melbourne.ipynb\" target=\"_parent\"><img src=\"https://colab.research.google.com/assets/colab-badge.svg\" alt=\"Open In Colab\"/></a>"
      ]
    },
    {
      "cell_type": "code",
      "execution_count": null,
      "metadata": {
        "colab": {
          "base_uri": "https://localhost:8080/",
          "height": 211
        },
        "id": "udSdcWSWafMv",
        "outputId": "50126d60-738e-4dc5-e759-19b037506252"
      },
      "outputs": [
        {
          "output_type": "error",
          "ename": "FileNotFoundError",
          "evalue": "Upload 'melbourne_housing_full.csv' to the Colab workspace or adjust 'data_path'.",
          "traceback": [
            "\u001b[0;31m---------------------------------------------------------------------------\u001b[0m",
            "\u001b[0;31mFileNotFoundError\u001b[0m                         Traceback (most recent call last)",
            "\u001b[0;32m/tmp/ipython-input-1-2829285635.py\u001b[0m in \u001b[0;36m<cell line: 0>\u001b[0;34m()\u001b[0m\n\u001b[1;32m     29\u001b[0m \u001b[0mdata_path\u001b[0m \u001b[0;34m=\u001b[0m \u001b[0mPath\u001b[0m\u001b[0;34m(\u001b[0m\u001b[0;34m\"melbourne_housing_full.csv\"\u001b[0m\u001b[0;34m)\u001b[0m\u001b[0;34m\u001b[0m\u001b[0;34m\u001b[0m\u001b[0m\n\u001b[1;32m     30\u001b[0m \u001b[0;32mif\u001b[0m \u001b[0;32mnot\u001b[0m \u001b[0mdata_path\u001b[0m\u001b[0;34m.\u001b[0m\u001b[0mexists\u001b[0m\u001b[0;34m(\u001b[0m\u001b[0;34m)\u001b[0m\u001b[0;34m:\u001b[0m\u001b[0;34m\u001b[0m\u001b[0;34m\u001b[0m\u001b[0m\n\u001b[0;32m---> 31\u001b[0;31m     \u001b[0;32mraise\u001b[0m \u001b[0mFileNotFoundError\u001b[0m\u001b[0;34m(\u001b[0m\u001b[0;34m\"Upload 'melbourne_housing_full.csv' to the Colab workspace or adjust 'data_path'.\"\u001b[0m\u001b[0;34m)\u001b[0m\u001b[0;34m\u001b[0m\u001b[0;34m\u001b[0m\u001b[0m\n\u001b[0m\u001b[1;32m     32\u001b[0m \u001b[0;34m\u001b[0m\u001b[0m\n\u001b[1;32m     33\u001b[0m \u001b[0mhousing_df\u001b[0m \u001b[0;34m=\u001b[0m \u001b[0mpd\u001b[0m\u001b[0;34m.\u001b[0m\u001b[0mread_csv\u001b[0m\u001b[0;34m(\u001b[0m\u001b[0mdata_path\u001b[0m\u001b[0;34m)\u001b[0m\u001b[0;34m\u001b[0m\u001b[0;34m\u001b[0m\u001b[0m\n",
            "\u001b[0;31mFileNotFoundError\u001b[0m: Upload 'melbourne_housing_full.csv' to the Colab workspace or adjust 'data_path'."
          ]
        }
      ],
      "source": [
        "# Melbourne Housing Snapshot – ML Preparation & Baseline Model\n",
        "# Environment: Google Colab (Python 3.10+)\n",
        "# Goal: Build a preprocessing pipeline + baseline model that achieves R² ≥ 0.85 (80/20 split)\n",
        "# Author: Decisão Sistêmica – generated on 2025‑07‑02\n",
        "\n",
        "# --- 0. OPTIONAL: DOWNLOAD DATASET DIRECTLY FROM KAGGLE ---------------------\n",
        "# Requires Kaggle API token. Skip if you'll upload the CSV manually via Colab.\n",
        "# from google.colab import files, auth\n",
        "# !pip install -q kaggle\n",
        "# auth.authenticate_user()\n",
        "# !kaggle datasets download -d dansbecker/melbourne-housing-snapshot -p /content\n",
        "# !unzip -o /content/melbourne-housing-snapshot.zip -d /content\n",
        "\n",
        "# --- 1. IMPORTS -------------------------------------------------------------\n",
        "import pandas as pd\n",
        "import numpy as np\n",
        "import matplotlib.pyplot as plt\n",
        "from sklearn.model_selection import train_test_split\n",
        "from sklearn.compose import ColumnTransformer\n",
        "from sklearn.preprocessing import OneHotEncoder, StandardScaler\n",
        "from sklearn.pipeline import Pipeline, make_pipeline\n",
        "from sklearn.ensemble import RandomForestRegressor\n",
        "from sklearn.metrics import r2_score, mean_absolute_error\n",
        "from pathlib import Path\n",
        "import seaborn as sns  # optional for nicer plots\n",
        "\n",
        "# --- 2. LOAD DATA -----------------------------------------------------------\n",
        "# ↳ Adjust path if needed (e.g., \"/content/melbourne_housing_full.csv\")\n",
        "data_path = Path(\"melbourne_housing_full.csv\")\n",
        "if not data_path.exists():\n",
        "    raise FileNotFoundError(\"Upload 'melbourne_housing_full.csv' to the Colab workspace or adjust 'data_path'.\")\n",
        "\n",
        "housing_df = pd.read_csv(data_path)\n",
        "print(f\"Dataset shape: {housing_df.shape}\")\n",
        "print(housing_df.head())\n",
        "\n",
        "# --- 3. QUICK EDA -----------------------------------------------------------\n",
        "print(\"\\nMissing values per column (top 10):\")\n",
        "missing = housing_df.isna().sum().sort_values(ascending=False)\n",
        "print(missing.head(10))\n",
        "\n",
        "plt.figure()\n",
        "sns.histplot(housing_df['Price'].dropna(), kde=True)\n",
        "plt.title('Distribution of Sale Price')\n",
        "plt.xlabel('Price (AUD)')\n",
        "plt.ylabel('Frequency')\n",
        "plt.show()\n",
        "\n",
        "# --- 4. PREPROCESSING PIPELINE ---------------------------------------------\n",
        "# Separate target\n",
        "TARGET = 'Price'\n",
        "X = housing_df.drop(columns=[TARGET])\n",
        "y = housing_df[TARGET].dropna()\n",
        "\n",
        "# Align X & y (drop rows where y is NaN)\n",
        "X = X.loc[y.index]\n",
        "\n",
        "numeric_features = X.select_dtypes(include=['number']).columns.tolist()\n",
        "categorical_features = X.select_dtypes(exclude=['number']).columns.tolist()\n",
        "print(f\"Numeric cols: {len(numeric_features)} | Categorical cols: {len(categorical_features)}\")\n",
        "\n",
        "numeric_transformer = Pipeline(steps=[\n",
        "    (\"scaler\", StandardScaler())\n",
        "])\n",
        "\n",
        "categorical_transformer = Pipeline(steps=[\n",
        "    (\"onehot\", OneHotEncoder(handle_unknown=\"ignore\", sparse_output=False))\n",
        "])\n",
        "\n",
        "preprocessor = ColumnTransformer(\n",
        "    transformers=[\n",
        "        (\"num\", numeric_transformer, numeric_features),\n",
        "        (\"cat\", categorical_transformer, categorical_features)\n",
        "    ]\n",
        ")\n",
        "\n",
        "# --- 5. TRAIN‑TEST SPLIT ----------------------------------------------------\n",
        "X_train, X_test, y_train, y_test = train_test_split(\n",
        "    X, y, test_size=0.20, random_state=42)\n",
        "\n",
        "# --- 6. BASELINE MODEL ------------------------------------------------------\n",
        "rf_model = RandomForestRegressor(\n",
        "    n_estimators=500,\n",
        "    max_depth=None,\n",
        "    random_state=42,\n",
        "    n_jobs=-1\n",
        ")\n",
        "\n",
        "model_pipeline = make_pipeline(preprocessor, rf_model)\n",
        "model_pipeline.fit(X_train, y_train)\n",
        "\n",
        "# --- 7. EVALUATION ----------------------------------------------------------\n",
        "y_pred = model_pipeline.predict(X_test)\n",
        "\n",
        "r2 = r2_score(y_test, y_pred)\n",
        "mae = mean_absolute_error(y_test, y_pred)\n",
        "print(f\"\\nR² on test set: {r2:.4f}\")\n",
        "print(f\"MAE on test set: {mae:,.0f} AUD\")\n",
        "\n",
        "# --- 8. CHECKPOINT ----------------------------------------------------------\n",
        "if r2 >= 0.85:\n",
        "    print(\"✅ Success: Criterion met!\")\n",
        "else:\n",
        "    print(\"⚠️  R² below 0.85 – consider hyperparameter tuning or alternative models (GBM, XGBoost, CatBoost, etc.)\")\n",
        "\n",
        "# --- 9. NEXT STEPS (TODO) ---------------------------------------------------\n",
        "# • Hyperparameter tuning with GridSearchCV or Optuna\n",
        "# • Feature engineering (e.g., distance to CBD, age of property)\n",
        "# • Model comparison: GradientBoostingRegressor, XGBRegressor, CatBoostRegressor\n",
        "# • Cross‑validation and ensemble stacking\n",
        "# • Save trained model with joblib / sklearn‑onnx\n"
      ]
    }
  ]
}